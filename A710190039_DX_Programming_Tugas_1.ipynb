{
 "cells": [
  {
   "cell_type": "markdown",
   "id": "cbf2b532",
   "metadata": {},
   "source": [
    "# Tugas 1 Algoritma dan Pemrograman\n",
    "\n",
    "## Pertama-tama, ganti NIM di nama file ini. Klik <font color=\"red\">File -> Rename... </font>\n",
    "\n",
    "Lalu isi yang di bawah ini. Untuk mengedit cell ini, double-click di sini.\n",
    "### NAMA: ....\n",
    "### NIM: ...\n",
    "\n",
    "#### Lengkapi kode di bawah dan jalankan\n",
    "\n",
    "### Untuk melarikan suatu cell, tekan Shift + Enter"
   ]
  },
  {
   "cell_type": "code",
   "execution_count": null,
   "id": "e2d2a1e9",
   "metadata": {},
   "outputs": [],
   "source": [
    "from time import ctime\n",
    "from os import getcwd\n",
    "import sys\n",
    "nama = \"NAMA SAYA\"     ## Ganti dengan namamu\n",
    "NIM = \"A71028999\"     ## Ganti dengan NIM-mu\n",
    "kota = \"Surakarta\"     ## Ganti dengan kota asalmu\n",
    "print(\"NAMA:\", nama)\n",
    "print(\"NIM :\", NIM)\n",
    "print(\"Kota:\", kota)\n",
    "print(ctime())\n",
    "print(\"\")\n",
    "print(getcwd())\n",
    "print(sys.executable)\n",
    "print(sys.version)"
   ]
  },
  {
   "cell_type": "markdown",
   "id": "8031e0dd",
   "metadata": {},
   "source": [
    "## Soal 1\n",
    "\n",
    "Lengkapi kode di bawah ini sehingga outputnya seperti yang ditunjukkan di bawah. Kodemu harus menghasilkan  segitiga rata kanan yang tingginya dan karakter pembangunnya ditentukan dari input keyboard."
   ]
  },
  {
   "cell_type": "code",
   "execution_count": null,
   "id": "31dc292c",
   "metadata": {},
   "outputs": [],
   "source": [
    "h = int(input(\"Height of triangle >>> \"))\n",
    "c = input(    \"Input a character: >>> \")\n",
    "\n",
    "## Lanjutkan ..."
   ]
  },
  {
   "cell_type": "markdown",
   "id": "6ec7a2c9",
   "metadata": {},
   "source": [
    "## Soal 2\n",
    "\n",
    "Lengkapi kode di bawah ini sehingga outputnya seperti yang ditunjukkan di bawah. Nama yang kamus masukkan bebas, tapi jangan menaruh nama-nama yang dipakai sebagai contoh di bawah. Untuk mudahnya, masukkan saja nama-nama temanmu saat SMA dulu.\n",
    "\n",
    "Saat kamu mengeksekusi, masukkan setidaknya 7 nama. Sesudah itu jawab \"n\" untuk mengakhiri."
   ]
  },
  {
   "cell_type": "code",
   "execution_count": null,
   "id": "f9a64bca",
   "metadata": {},
   "outputs": [],
   "source": [
    "k = 'y'\n",
    "while k == 'y' or k == 'Y':\n",
    "    name = input(\"What is your name? \")\n",
    "    l = len(name)\n",
    "    ### lanjutkan\n",
    "\n",
    "###"
   ]
  },
  {
   "cell_type": "code",
   "execution_count": null,
   "id": "e8a4ec7f",
   "metadata": {},
   "outputs": [],
   "source": []
  },
  {
   "cell_type": "markdown",
   "id": "afaae459",
   "metadata": {},
   "source": [
    "## Soal 3\n",
    "\n",
    "Buatlah sebuah fungsi dalam Python untuk menghitung luas segitiga, diberikan panjang sisi bawah segitiga itu dan tinggi segitiganya. Contoh pemanggilan:\n",
    "\n",
    "    >>> L = luasSegitiga(7, 10)\n",
    "    >>> L\n",
    "    35.0\n",
    "    >>>\n",
    "\n"
   ]
  },
  {
   "cell_type": "code",
   "execution_count": null,
   "id": "30214d44",
   "metadata": {},
   "outputs": [],
   "source": [
    "# Definisi fungsimu ada di sini.\n",
    "# Kerjakan dengan baik dan benar!\n",
    "\n",
    "# 'pass' berfungsi untuk menggantikan kode yang masih kosong, agar ketika dijalankan tidak error. \n",
    "# Tentu kalau sudah ada kodemu, pass -nya dihilangkan.\n",
    "\n",
    "def luasSegitiga(s, h):\n",
    "    pass\n",
    "\n"
   ]
  },
  {
   "cell_type": "code",
   "execution_count": null,
   "id": "d44a9a2b",
   "metadata": {},
   "outputs": [],
   "source": [
    "## Yang berikut ini untuk memeriksa hasil. Tidak ada yang perlu diubah. Jalankan dengan Shift+Enter\n",
    "\n",
    "L = luasSegitiga(7, 10)\n",
    "J = luasSegitiga(6, 5)\n",
    "if L == 35.0 and J == 15.0 :\n",
    "    print(\"Program benar\")\n",
    "    "
   ]
  },
  {
   "cell_type": "markdown",
   "id": "ba4f9c5a",
   "metadata": {},
   "source": [
    "## Save\n",
    "### lalu\n",
    "\n",
    "## Add, Commit, and then push to GitHub"
   ]
  },
  {
   "cell_type": "code",
   "execution_count": null,
   "id": "ff171ba4",
   "metadata": {},
   "outputs": [],
   "source": []
  },
  {
   "cell_type": "code",
   "execution_count": null,
   "id": "aa1a6fad",
   "metadata": {},
   "outputs": [],
   "source": []
  }
 ],
 "metadata": {
  "kernelspec": {
   "display_name": "Python 3 (ipykernel)",
   "language": "python",
   "name": "python3"
  },
  "language_info": {
   "codemirror_mode": {
    "name": "ipython",
    "version": 3
   },
   "file_extension": ".py",
   "mimetype": "text/x-python",
   "name": "python",
   "nbconvert_exporter": "python",
   "pygments_lexer": "ipython3",
   "version": "3.9.6"
  }
 },
 "nbformat": 4,
 "nbformat_minor": 5
}
